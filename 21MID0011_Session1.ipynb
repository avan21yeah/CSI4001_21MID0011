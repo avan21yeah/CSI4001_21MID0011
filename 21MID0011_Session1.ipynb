pip install nltk
import nltk
nltk.download()
from nltk.book import * 
from nltk.corpus import brown
brown.categories()
brown.words(categories='adventure')[:50]
brown.words()[:50]
from nltk.corpus import inaugural
inaugural.fileids()
brown.words(categories='religion')[:20]
