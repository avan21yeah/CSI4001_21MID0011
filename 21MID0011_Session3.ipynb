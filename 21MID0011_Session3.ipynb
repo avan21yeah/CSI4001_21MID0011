{
 "cells": [
  {
   "cell_type": "code",
   "execution_count": null,
   "id": "9bbb2023-79f3-4e2c-8cb4-bcdc1516f0e4",
   "metadata": {},
   "outputs": [],
   "source": [
    "#07-02-25"
   ]
  },
  {
   "cell_type": "code",
   "execution_count": 2,
   "id": "460b3fe9-38d1-49d2-84e4-c7c2a751568b",
   "metadata": {},
   "outputs": [],
   "source": [
    "import nltk\n",
    "f=open('tweets1.txt','r')"
   ]
  },
  {
   "cell_type": "raw",
   "id": "b164185e-24b6-43c8-a980-cc7006772639",
   "metadata": {},
   "source": [
    "## text=f.read()\n",
    "text1=text.split()\n",
    "text2=nltk.Text(text1)"
   ]
  },
  {
   "cell_type": "code",
   "execution_count": 12,
   "id": "e98f3861-35ef-4b12-8a15-e0fb677ce32a",
   "metadata": {},
   "outputs": [
    {
     "name": "stdout",
     "output_type": "stream",
     "text": [
      "Displaying 25 of 349 matches:\n",
      "o bed. gary coleman sighting by Zoom. The rumors were true Festmob. In The Sign\n",
      "oom. The rumors were true Festmob. In The Signal premiere. Lotsa buyers. Good l\n",
      "a buyers. Good luck gang listening to the pocast net@nite while setting up twit\n",
      " looking for family Holy holy holy is the lord God almighty Wow she finally fin\n",
      "ing in longggggggggggg line for food, the only question is what to eat? Lunch t\n",
      "!!!!!! Lol technical difficulties and the crowd is singing for joy Main session\n",
      "o find people I am sitting waitng for the session......I HATE NEGATIVE SPACE...\n",
      "i released in Singapore yet?! surfing the net playing around on twitter At work\n",
      "ng around on twitter At work Watching the valentine's day pillowfight sans pill\n",
      "ere and not here. Talking about 24 in the cars, we pass Bauer's limo service. A\n",
      "ack Morass. Getting better! Woo, felt the tremor. I feeling giddy! heading to b\n",
      "n for let url Listening to music with the kids url looking at social network si\n",
      "o p2p to sourceforge url listening to the Gossip and Arctic Monkeys on Hype Mac\n",
      "spreadsheet for Building Surveyors at the British Red cross Society probably ta\n",
      ". url Going to a meeting on Israel at the British Red Cross Adding a filter to \n",
      "y on Rails spreadsheet. Going home on the overground Babbling, seemingly homele\n",
      "y homeless San Francisco bag lady all the more disconcerting for carrying Sur L\n",
      "take along some of those glasses with the eyes painted on... Sitting on the cou\n",
      "ith the eyes painted on... Sitting on the couch, reading email Seriously jonesi\n",
      "in' for Nairns mini-oatcakes---verily the heroin of Scotland! coffeebreak :-) A\n",
      "otland! coffeebreak :-) Astonished by the rain gusting over the city . .where d\n",
      ") Astonished by the rain gusting over the city . .where did Saturday's lemonade\n",
      "shine go? Of course my perspective on the weekend weather was warped by hiking \n",
      "ails spreadsheet that I'm writing for the BRCS (url ). 6pm: Living Black invest\n",
      " a big outback party in Hermannsburg. THE MIGHTY BOOSH, 10:05pm: Howard hooks a\n"
     ]
    }
   ],
   "source": [
    "text2.concordance(\"the\") #giving a words 10 words before and after one searching technique"
   ]
  },
  {
   "cell_type": "code",
   "execution_count": 13,
   "id": "5fe598be-b23f-4181-b127-47a39a0da538",
   "metadata": {},
   "outputs": [],
   "source": [
    "from urllib import request"
   ]
  },
  {
   "cell_type": "code",
   "execution_count": 16,
   "id": "ffa2d151-2571-40e8-a6f7-411e216ffbd5",
   "metadata": {},
   "outputs": [],
   "source": [
    "url=\"http://www.gutenberg.org/files/2554/2554-0.txt\""
   ]
  },
  {
   "cell_type": "code",
   "execution_count": 17,
   "id": "fa688e25-de3b-48b9-a715-c38d6f0fd93d",
   "metadata": {},
   "outputs": [],
   "source": [
    "response=request.urlopen(url)"
   ]
  },
  {
   "cell_type": "code",
   "execution_count": 19,
   "id": "c34034dc-2039-4891-bda6-870dee218686",
   "metadata": {},
   "outputs": [],
   "source": [
    "raw=response.read().decode('utf8')"
   ]
  },
  {
   "cell_type": "code",
   "execution_count": 20,
   "id": "a855e1ea-115a-44b0-b838-deadd581431c",
   "metadata": {},
   "outputs": [
    {
     "data": {
      "text/plain": [
       "str"
      ]
     },
     "execution_count": 20,
     "metadata": {},
     "output_type": "execute_result"
    }
   ],
   "source": [
    "type(raw)"
   ]
  },
  {
   "cell_type": "code",
   "execution_count": 21,
   "id": "429f6c9d-f551-487f-927f-903c30d43503",
   "metadata": {},
   "outputs": [
    {
     "data": {
      "text/plain": [
       "0"
      ]
     },
     "execution_count": 21,
     "metadata": {},
     "output_type": "execute_result"
    }
   ],
   "source": [
    "len(raw)"
   ]
  },
  {
   "cell_type": "code",
   "execution_count": 22,
   "id": "2564ddd2-041a-42c1-ae38-2f07b641f67b",
   "metadata": {},
   "outputs": [
    {
     "data": {
      "text/plain": [
       "''"
      ]
     },
     "execution_count": 22,
     "metadata": {},
     "output_type": "execute_result"
    }
   ],
   "source": [
    "raw[:75]"
   ]
  },
  {
   "cell_type": "code",
   "execution_count": null,
   "id": "ddc58b15-9cec-47a3-9fac-0350220e668f",
   "metadata": {},
   "outputs": [],
   "source": [
    "# HTML -> ASCII -> TEXT -> VOCAB"
   ]
  },
  {
   "cell_type": "code",
   "execution_count": 24,
   "id": "b40fdfc7-25db-49c2-a983-0175228ce618",
   "metadata": {},
   "outputs": [],
   "source": [
    "from nltk.tokenize import word_tokenize\n",
    "token=word_tokenize(raw)"
   ]
  },
  {
   "cell_type": "code",
   "execution_count": 26,
   "id": "1373db24-8f38-4c12-beb0-00bd7125252a",
   "metadata": {},
   "outputs": [
    {
     "data": {
      "text/plain": [
       "list"
      ]
     },
     "execution_count": 26,
     "metadata": {},
     "output_type": "execute_result"
    }
   ],
   "source": [
    "type(token)"
   ]
  },
  {
   "cell_type": "code",
   "execution_count": 27,
   "id": "e8290703-1c4b-44f1-ad81-09e3e75b9908",
   "metadata": {},
   "outputs": [
    {
     "data": {
      "text/plain": [
       "0"
      ]
     },
     "execution_count": 27,
     "metadata": {},
     "output_type": "execute_result"
    }
   ],
   "source": [
    "len(token)"
   ]
  },
  {
   "cell_type": "code",
   "execution_count": null,
   "id": "3794b7db-2b3a-4eac-9eeb-2a58bb8c4f67",
   "metadata": {},
   "outputs": [],
   "source": []
  }
 ],
 "metadata": {
  "kernelspec": {
   "display_name": "Python 3 (ipykernel)",
   "language": "python",
   "name": "python3"
  },
  "language_info": {
   "codemirror_mode": {
    "name": "ipython",
    "version": 3
   },
   "file_extension": ".py",
   "mimetype": "text/x-python",
   "name": "python",
   "nbconvert_exporter": "python",
   "pygments_lexer": "ipython3",
   "version": "3.11.5"
  }
 },
 "nbformat": 4,
 "nbformat_minor": 5
}
