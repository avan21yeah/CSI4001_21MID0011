{
 "cells": [
  {
   "cell_type": "code",
   "execution_count": 14,
   "id": "89eff01f-273b-497b-8b95-8bc5f17386fc",
   "metadata": {},
   "outputs": [],
   "source": [
    "from sklearn.feature_extraction.text import TfidfVectorizer\n",
    "from sklearn.metrics.pairwise import cosine_similarity"
   ]
  },
  {
   "cell_type": "code",
   "execution_count": 15,
   "id": "514f0473-716d-460c-bd2d-70a75b9ac7e1",
   "metadata": {},
   "outputs": [],
   "source": [
    "text1 = \"Machine learning models often use cosine similarity to compare document embeddings.\"  \n",
    "text2 = \"In natural language processing, cosine similarity helps measure the closeness of text representations.\""
   ]
  },
  {
   "cell_type": "code",
   "execution_count": 16,
   "id": "ab5769a9-0f8e-489e-a6af-2c1e5b90b55f",
   "metadata": {},
   "outputs": [],
   "source": [
    "vectorizer = TfidfVectorizer(stop_words='english')  \n",
    "tfidf_matrix = vectorizer.fit_transform([text1, text2])"
   ]
  },
  {
   "cell_type": "code",
   "execution_count": 17,
   "id": "3a1e4b1f-e5ef-43ca-beec-ccc6284a2c1a",
   "metadata": {},
   "outputs": [
    {
     "name": "stdout",
     "output_type": "stream",
     "text": [
      "Cosine Similarity: 0.1191\n"
     ]
    }
   ],
   "source": [
    "cosine_sim1 = cosine_similarity(tfidf_matrix[0], tfidf_matrix[1])\n",
    "print(f\"Cosine Similarity: {cosine_sim1[0][0]:.4f}\")"
   ]
  },
  {
   "cell_type": "code",
   "execution_count": 18,
   "id": "c262b5b3-dce5-42da-b527-fd3d2ed12813",
   "metadata": {},
   "outputs": [
    {
     "name": "stderr",
     "output_type": "stream",
     "text": [
      "[nltk_data] Downloading package punkt to C:\\Users\\MADDU\n",
      "[nltk_data]     SAHITHI\\AppData\\Roaming\\nltk_data...\n",
      "[nltk_data]   Package punkt is already up-to-date!\n"
     ]
    },
    {
     "data": {
      "text/plain": [
       "True"
      ]
     },
     "execution_count": 18,
     "metadata": {},
     "output_type": "execute_result"
    }
   ],
   "source": [
    "import nltk\n",
    "from nltk.stem import PorterStemmer\n",
    "from nltk.tokenize import word_tokenize\n",
    "from sklearn.feature_extraction.text import TfidfVectorizer\n",
    "from sklearn.metrics.pairwise import cosine_similarity\n",
    "nltk.download('punkt')"
   ]
  },
  {
   "cell_type": "code",
   "execution_count": 19,
   "id": "1a289378-e9d8-4ba3-b750-1178df22197d",
   "metadata": {},
   "outputs": [],
   "source": [
    "stemmer = PorterStemmer()"
   ]
  },
  {
   "cell_type": "code",
   "execution_count": 20,
   "id": "be45df0d-e63e-4df0-a7b4-c62499965f9b",
   "metadata": {},
   "outputs": [],
   "source": [
    "def stem_text(text):\n",
    "    words = word_tokenize(text)\n",
    "    stemmed_words = [stemmer.stem(word) for word in words]\n",
    "    return \" \".join(stemmed_words)"
   ]
  },
  {
   "cell_type": "code",
   "execution_count": 21,
   "id": "19f4f71a-68ad-450f-96d8-4195fae5057b",
   "metadata": {},
   "outputs": [],
   "source": [
    "text1_stemmed = stem_text(text1)\n",
    "text2_stemmed = stem_text(text2)"
   ]
  },
  {
   "cell_type": "code",
   "execution_count": 22,
   "id": "0fd9840b-faab-44f6-bbef-48447c75ee5a",
   "metadata": {},
   "outputs": [],
   "source": [
    "vectorizer = TfidfVectorizer(stop_words='english')\n",
    "tfidf_matrix = vectorizer.fit_transform([text1_stemmed, text2_stemmed])"
   ]
  },
  {
   "cell_type": "code",
   "execution_count": 23,
   "id": "5d354e20-f75c-4173-91d9-2e48c7b8a348",
   "metadata": {},
   "outputs": [
    {
     "name": "stdout",
     "output_type": "stream",
     "text": [
      "Cosine Similarity (with stemming): 0.1191\n"
     ]
    }
   ],
   "source": [
    "cosine_sim2 = cosine_similarity(tfidf_matrix[0], tfidf_matrix[1])\n",
    "print(f\"Cosine Similarity (with stemming): {cosine_sim2[0][0]:.4f}\")"
   ]
  },
  {
   "cell_type": "code",
   "execution_count": 24,
   "id": "113c800d-b22c-4061-82ba-0c3bf47b2e66",
   "metadata": {},
   "outputs": [
    {
     "data": {
      "image/png": "[encoded data removed]",
      "text/plain": [
       "<Figure size 640x480 with 1 Axes>"
      ]
     },
     "metadata": {},
     "output_type": "display_data"
    }
   ],
   "source": [
    "import matplotlib.pyplot as plt\n",
    "cosine_sim1 = cosine_sim1[0][0] \n",
    "cosine_sim2 = cosine_sim2[0][0] \n",
    "labels = [\"Without Stemming\", \"With Stemming\"]\n",
    "values = [cosine_sim1, cosine_sim2]\n",
    "\n",
    "plt.bar(labels, values, color=['blue', 'green'])\n",
    "plt.ylim(0, 1) \n",
    "plt.ylabel(\"Cosine Similarity Score\")\n",
    "plt.title(\"Cosine Similarity: With vs. Without Stemming\")\n",
    "for i, v in enumerate(values):\n",
    "    plt.text(i, v + 0.02, f\"{v:.4f}\", ha='center', fontsize=12, fontweight='bold')\n",
    "\n",
    "plt.show()\n"
   ]
  },
  {
   "cell_type": "code",
   "execution_count": null,
   "id": "9a4795e2-acd3-4ba2-822b-db81d4dcc9b9",
   "metadata": {},
   "outputs": [],
   "source": []
  }
 ],
 "metadata": {
  "kernelspec": {
   "display_name": "Python 3 (ipykernel)",
   "language": "python",
   "name": "python3"
  },
  "language_info": {
   "codemirror_mode": {
    "name": "ipython",
    "version": 3
   },
   "file_extension": ".py",
   "mimetype": "text/x-python",
   "name": "python",
   "nbconvert_exporter": "python",
   "pygments_lexer": "ipython3",
   "version": "3.11.5"
  }
 },
 "nbformat": 4,
 "nbformat_minor": 5
}
